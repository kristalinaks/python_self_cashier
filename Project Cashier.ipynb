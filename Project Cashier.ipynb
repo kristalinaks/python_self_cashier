{
 "cells": [
  {
   "cell_type": "markdown",
   "id": "a6bf0b0a",
   "metadata": {},
   "source": [
    "# Test Case untuk Module Cashier"
   ]
  },
  {
   "cell_type": "code",
   "execution_count": 1,
   "id": "222da43f",
   "metadata": {},
   "outputs": [],
   "source": [
    "import cashier as c"
   ]
  },
  {
   "cell_type": "markdown",
   "id": "7f9da2fb",
   "metadata": {},
   "source": [
    "## Test Case 1: Menambahkan Item"
   ]
  },
  {
   "cell_type": "code",
   "execution_count": 2,
   "id": "cbcb58b6",
   "metadata": {
    "scrolled": false
   },
   "outputs": [
    {
     "name": "stdout",
     "output_type": "stream",
     "text": [
      "Menambahkan ke dalam pesanan: Ayam Goreng sejumlah 2 dengan harga Rp 20000.\n",
      "Menambahkan ke dalam pesanan: Pasta Gigi sejumlah 3 dengan harga Rp 15000.\n"
     ]
    }
   ],
   "source": [
    "transaksi = c.Transaction()\n",
    "transaksi.add_item(\"Ayam Goreng\", 2, 20_000)\n",
    "transaksi.add_item(\"Pasta Gigi\", 3, 15_000)"
   ]
  },
  {
   "cell_type": "markdown",
   "id": "5de171f2",
   "metadata": {},
   "source": [
    "## Test Case 2: Menghapus Item"
   ]
  },
  {
   "cell_type": "code",
   "execution_count": 3,
   "id": "0f51aaab",
   "metadata": {},
   "outputs": [
    {
     "name": "stdout",
     "output_type": "stream",
     "text": [
      "Menghapus pesanan Pasta Gigi.\n",
      "\n",
      "| Nama Item   |   Jumlah Item |   Harga/Item |   Total Harga |\n",
      "|-------------|---------------|--------------|---------------|\n",
      "| Ayam Goreng |             2 |        20000 |         40000 |\n"
     ]
    }
   ],
   "source": [
    "transaksi.delete_item(\"Pasta Gigi\")"
   ]
  },
  {
   "cell_type": "markdown",
   "id": "a4ce8c2b",
   "metadata": {},
   "source": [
    "## Test Case 3: Mereset Transaksi"
   ]
  },
  {
   "cell_type": "code",
   "execution_count": 4,
   "id": "316f2a3e",
   "metadata": {},
   "outputs": [
    {
     "name": "stdout",
     "output_type": "stream",
     "text": [
      "Semua item berhasil dihapus.\n"
     ]
    }
   ],
   "source": [
    "transaksi.reset_transaction()"
   ]
  },
  {
   "cell_type": "markdown",
   "id": "419aaab0",
   "metadata": {},
   "source": [
    "## Test Case 4: Menghitung Total Belanja"
   ]
  },
  {
   "cell_type": "code",
   "execution_count": 5,
   "id": "21ce3fae",
   "metadata": {},
   "outputs": [
    {
     "name": "stdout",
     "output_type": "stream",
     "text": [
      "Menambahkan ke dalam pesanan: Ayam Goreng sejumlah 2 dengan harga Rp 20000.\n",
      "Menambahkan ke dalam pesanan: Pasta Gigi sejumlah 3 dengan harga Rp 15000.\n"
     ]
    }
   ],
   "source": [
    "transaksi = c.Transaction()\n",
    "transaksi.add_item(\"Ayam Goreng\", 2, 20_000)\n",
    "transaksi.add_item(\"Pasta Gigi\", 3, 15_000)"
   ]
  },
  {
   "cell_type": "code",
   "execution_count": 6,
   "id": "bc7e5d5d",
   "metadata": {},
   "outputs": [
    {
     "name": "stdout",
     "output_type": "stream",
     "text": [
      "| Nama Item   |   Jumlah Item |   Harga/Item |   Total Harga |\n",
      "|-------------|---------------|--------------|---------------|\n",
      "| Ayam Goreng |             2 |        20000 |         40000 |\n",
      "| Pasta Gigi  |             3 |        15000 |         45000 |\n",
      "Pemesanan sudah benar.\n",
      "Total belanja Anda adalah Rp 85000.\n"
     ]
    }
   ],
   "source": [
    "transaksi.total_price()"
   ]
  },
  {
   "cell_type": "markdown",
   "id": "7029a61c",
   "metadata": {},
   "source": [
    "## Test Case 5: Mengupdate Nama Item"
   ]
  },
  {
   "cell_type": "code",
   "execution_count": 7,
   "id": "7b8ad893",
   "metadata": {},
   "outputs": [
    {
     "name": "stdout",
     "output_type": "stream",
     "text": [
      "Menambahkan ke dalam pesanan: Teh Kotak sejumlah 10 dengan harga Rp 3500.\n",
      "Menambahkan ke dalam pesanan: Chitato sejumlah 5 dengan harga Rp 6000.\n",
      "Menambahkan ke dalam pesanan: Roti Tawar sejumlah 20 dengan harga Rp 12000.\n"
     ]
    }
   ],
   "source": [
    "transaksi = c.Transaction()\n",
    "transaksi.add_item(\"Teh Kotak\", 10, 3_500)\n",
    "transaksi.add_item(\"Chitato\", 5, 6_000)\n",
    "transaksi.add_item(\"Roti Tawar\", 20, 12_000)"
   ]
  },
  {
   "cell_type": "code",
   "execution_count": 8,
   "id": "a43818e5",
   "metadata": {},
   "outputs": [
    {
     "name": "stdout",
     "output_type": "stream",
     "text": [
      "| Nama Item   |   Jumlah Item |   Harga/Item |   Total Harga |\n",
      "|-------------|---------------|--------------|---------------|\n",
      "| Chitato     |             5 |         6000 |         30000 |\n",
      "| Roti Tawar  |            20 |        12000 |        240000 |\n",
      "| Teh Botol   |            10 |         3500 |         35000 |\n",
      "Mengubah nama item Teh Kotak menjadi Teh Botol.\n"
     ]
    }
   ],
   "source": [
    "transaksi.update_item_name(\"Teh Kotak\", \"Teh Botol\")"
   ]
  },
  {
   "cell_type": "markdown",
   "id": "95ace573",
   "metadata": {},
   "source": [
    "## Test Case 6: Mengupdate Jumlah Item"
   ]
  },
  {
   "cell_type": "code",
   "execution_count": 9,
   "id": "2f2680ba",
   "metadata": {
    "scrolled": true
   },
   "outputs": [
    {
     "name": "stdout",
     "output_type": "stream",
     "text": [
      "| Nama Item   |   Jumlah Item |   Harga/Item |   Total Harga |\n",
      "|-------------|---------------|--------------|---------------|\n",
      "| Chitato     |             7 |         6000 |         42000 |\n",
      "| Roti Tawar  |            20 |        12000 |        240000 |\n",
      "| Teh Botol   |            10 |         3500 |         35000 |\n",
      "Mengubah jumlah item Chitato menjadi 7.\n"
     ]
    }
   ],
   "source": [
    "transaksi.update_item_qty(\"Chitato\", 7)"
   ]
  },
  {
   "cell_type": "markdown",
   "id": "0484a4a9",
   "metadata": {},
   "source": [
    "## Test Case 7: Mengupdate Harga Item"
   ]
  },
  {
   "cell_type": "code",
   "execution_count": 10,
   "id": "950cb3a7",
   "metadata": {},
   "outputs": [
    {
     "name": "stdout",
     "output_type": "stream",
     "text": [
      "| Nama Item   |   Jumlah Item |   Harga/Item |   Total Harga |\n",
      "|-------------|---------------|--------------|---------------|\n",
      "| Chitato     |             7 |         6000 |         42000 |\n",
      "| Roti Tawar  |            20 |        10000 |        200000 |\n",
      "| Teh Botol   |            10 |         3500 |         35000 |\n",
      "Mengubah harga item Roti Tawar menjadi 10000.\n"
     ]
    }
   ],
   "source": [
    "transaksi.update_item_price(\"Roti Tawar\", 10_000)"
   ]
  },
  {
   "cell_type": "markdown",
   "id": "adcced1f",
   "metadata": {},
   "source": [
    "## Test Case 8: Menghitung Total Belanja dan Diskon"
   ]
  },
  {
   "cell_type": "code",
   "execution_count": 11,
   "id": "79135f91",
   "metadata": {},
   "outputs": [
    {
     "name": "stdout",
     "output_type": "stream",
     "text": [
      "| Nama Item   |   Jumlah Item |   Harga/Item |   Total Harga |\n",
      "|-------------|---------------|--------------|---------------|\n",
      "| Chitato     |             7 |         6000 |         42000 |\n",
      "| Roti Tawar  |            20 |        10000 |        200000 |\n",
      "| Teh Botol   |            10 |         3500 |         35000 |\n",
      "Pemesanan sudah benar.\n",
      "Anda mendapatkan diskon 5% sebesar Rp 13850. Total belanja Anda adalah Rp 263150 (sudah termasuk diskon).\n"
     ]
    }
   ],
   "source": [
    "transaksi.total_price()"
   ]
  },
  {
   "cell_type": "markdown",
   "id": "99cc67f6",
   "metadata": {},
   "source": [
    "## Test Case 9: Penginputan Data Bukan Integer"
   ]
  },
  {
   "cell_type": "code",
   "execution_count": 12,
   "id": "a9e1f434",
   "metadata": {},
   "outputs": [
    {
     "name": "stdout",
     "output_type": "stream",
     "text": [
      "Jumlah barang harus berupa angka!\n"
     ]
    }
   ],
   "source": [
    "transaksi.add_item(\"Teh Kotak\", \"empat puluh\", 3_500)"
   ]
  },
  {
   "cell_type": "code",
   "execution_count": 13,
   "id": "7368dada",
   "metadata": {},
   "outputs": [
    {
     "name": "stdout",
     "output_type": "stream",
     "text": [
      "Harga barang harus berupa angka!\n"
     ]
    }
   ],
   "source": [
    "transaksi.update_item_price(\"Teh Botol\", \"tujuh\")"
   ]
  },
  {
   "cell_type": "markdown",
   "id": "545b2b60",
   "metadata": {},
   "source": [
    "## Test Case 10: Terdapat Kesalahan Input Pada Transaksi"
   ]
  },
  {
   "cell_type": "code",
   "execution_count": 14,
   "id": "5b7a506c",
   "metadata": {
    "scrolled": true
   },
   "outputs": [
    {
     "name": "stdout",
     "output_type": "stream",
     "text": [
      "Menambahkan ke dalam pesanan: Teh Kotak sejumlah -40 dengan harga Rp 3500.\n",
      "Menambahkan ke dalam pesanan: Roti Tawar sejumlah 12 dengan harga Rp 10000.\n",
      "Menambahkan ke dalam pesanan: Chitato sejumlah 3 dengan harga Rp 6000.\n"
     ]
    }
   ],
   "source": [
    "transaksi = c.Transaction()\n",
    "transaksi.add_item(\"Teh Kotak\", -40, 3_500)\n",
    "transaksi.add_item(\"Roti Tawar\", 12, 10_000)\n",
    "transaksi.add_item(\"Chitato\", 3, 6_000)"
   ]
  },
  {
   "cell_type": "code",
   "execution_count": 15,
   "id": "ff278bae",
   "metadata": {},
   "outputs": [
    {
     "name": "stdout",
     "output_type": "stream",
     "text": [
      "| Nama Item   |   Jumlah Item |   Harga/Item |   Total Harga |\n",
      "|-------------|---------------|--------------|---------------|\n",
      "| Teh Kotak   |           -40 |         3500 |       -140000 |\n",
      "| Roti Tawar  |            12 |        10000 |        120000 |\n",
      "| Chitato     |             3 |         6000 |         18000 |\n",
      "Terdapat kesalahan input jumlah/harga. Mohon cek ulang pesanan.\n"
     ]
    }
   ],
   "source": [
    "transaksi.check_order()"
   ]
  },
  {
   "cell_type": "code",
   "execution_count": 16,
   "id": "292fb45a",
   "metadata": {},
   "outputs": [
    {
     "name": "stdout",
     "output_type": "stream",
     "text": [
      "| Nama Item   |   Jumlah Item |   Harga/Item |   Total Harga |\n",
      "|-------------|---------------|--------------|---------------|\n",
      "| Teh Kotak   |           -40 |         3500 |       -140000 |\n",
      "| Roti Tawar  |            12 |        10000 |        120000 |\n",
      "| Chitato     |             3 |         6000 |         18000 |\n",
      "Terdapat kesalahan input jumlah/harga. Mohon cek ulang pesanan.\n",
      "Total belanja belum bisa dihitung selama masih ada kesalahan input.\n"
     ]
    }
   ],
   "source": [
    "transaksi.total_price()"
   ]
  }
 ],
 "metadata": {
  "kernelspec": {
   "display_name": "Python 3 (ipykernel)",
   "language": "python",
   "name": "python3"
  },
  "language_info": {
   "codemirror_mode": {
    "name": "ipython",
    "version": 3
   },
   "file_extension": ".py",
   "mimetype": "text/x-python",
   "name": "python",
   "nbconvert_exporter": "python",
   "pygments_lexer": "ipython3",
   "version": "3.9.12"
  }
 },
 "nbformat": 4,
 "nbformat_minor": 5
}
